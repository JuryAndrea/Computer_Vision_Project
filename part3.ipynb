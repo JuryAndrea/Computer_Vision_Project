{
 "cells": [
  {
   "cell_type": "markdown",
   "source": [
    "#### Christian Altrichter, Jury Andrea D'Onofrio, Francesco Huber"
   ],
   "metadata": {
    "collapsed": false
   }
  },
  {
   "cell_type": "code",
   "execution_count": 2,
   "metadata": {},
   "outputs": [],
   "source": [
    "import cv2\n",
    "import numpy as np\n",
    "import matplotlib.pyplot as plt\n",
    "import math\n",
    "\n"
   ]
  },
  {
   "cell_type": "code",
   "execution_count": 31,
   "metadata": {},
   "outputs": [],
   "source": [
    "\n",
    "image1_points = [[285,410], \n",
    "                [415,271], \n",
    "                [483,277], \n",
    "                [608,62], \n",
    "                [750, 215], \n",
    "                [575,485],\n",
    "                [410,60],\n",
    "                [682,340],\n",
    "                [278,245],\n",
    "                [735, 392]]\n",
    "\n",
    "\n",
    "image1_points2 = [[236,412], \n",
    "                [375,348], \n",
    "                [415,434], \n",
    "                [640,352], \n",
    "                [572, 252]\n",
    "                ]\n",
    "\n",
    "\n",
    "image2_points = [[285,446], \n",
    "                [344,290], \n",
    "                [375,295], \n",
    "                [690,75], \n",
    "                [806, 251], \n",
    "                [388,538],\n",
    "                [341,59],\n",
    "                [662,395],\n",
    "                [285, 270],\n",
    "                [792,482]]\n",
    "\n",
    "image2_points2 = [[240,445], \n",
    "                [301,370], \n",
    "                [345,377], \n",
    "                [575,400], \n",
    "                [422, 259]\n",
    "                ]\n",
    "\n",
    "world_points = [\n",
    "    [-1.0 ,-1.0, 0.0, 1.0],\n",
    "    [0.015545, -1.0, 0.965257, 1.0],\n",
    "    [0.491684, -1.0, 0.965257, 1.0],\n",
    "    [0.0, 1.03586, 2.1009, 1.0],\n",
    "    [1.05319, 1.03586, 1.15121, 1.0],\n",
    "    [1.22323, -1.22323, 0.0, 1.0],\n",
    "    [0.0, -1.0, 2.1009, 1.0],\n",
    "    [1.0, 0.234552, 0.489472, 1.0],\n",
    "    [-1.05319, -1.0, 1.0, 1.0],\n",
    "    [1.0, 1.0, 0.0, 1.0]\n",
    "    ]\n"
   ]
  },
  {
   "cell_type": "code",
   "execution_count": 32,
   "metadata": {},
   "outputs": [],
   "source": []
  },
  {
   "cell_type": "code",
   "execution_count": null,
   "metadata": {},
   "outputs": [],
   "source": [
    "H = compute_homography_matrix"
   ]
  },
  {
   "attachments": {},
   "cell_type": "markdown",
   "metadata": {},
   "source": [
    "### Part 1"
   ]
  },
  {
   "cell_type": "code",
   "execution_count": 5,
   "metadata": {},
   "outputs": [
    {
     "name": "stdout",
     "output_type": "stream",
     "text": [
      "Fundamental matrix F:\n",
      "[[-9.34959856e-04 -3.45539509e-04  8.37977628e-01]\n",
      " [-1.00246786e-03  6.68488142e-04  5.45697525e-01]\n",
      " [-2.99135687e-06 -2.24872125e-07  2.29379060e-03]]\n"
     ]
    }
   ],
   "source": [
    "# Projection matrix P is a 3x4\n",
    "F = projection_matrix(image1_points, image2_points)\n",
    "\n",
    "print(\"Fundamental matrix F:\")\n",
    "print(F)"
   ]
  },
  {
   "attachments": {},
   "cell_type": "markdown",
   "metadata": {},
   "source": []
  },
  {
   "attachments": {},
   "cell_type": "markdown",
   "metadata": {},
   "source": [
    "### Part 2"
   ]
  },
  {
   "cell_type": "code",
   "execution_count": 1,
   "metadata": {
    "ExecuteTime": {
     "end_time": "2023-06-10T22:07:56.271320Z",
     "start_time": "2023-06-10T22:07:56.103514Z"
    }
   },
   "outputs": [
    {
     "ename": "NameError",
     "evalue": "name 'np' is not defined",
     "output_type": "error",
     "traceback": [
      "\u001B[0;31m---------------------------------------------------------------------------\u001B[0m",
      "\u001B[0;31mNameError\u001B[0m                                 Traceback (most recent call last)",
      "Cell \u001B[0;32mIn[1], line 1\u001B[0m\n\u001B[0;32m----> 1\u001B[0m P_hat \u001B[38;5;241m=\u001B[39m \u001B[43mnp\u001B[49m\u001B[38;5;241m.\u001B[39mhstack((np\u001B[38;5;241m.\u001B[39meye(\u001B[38;5;241m3\u001B[39m), np\u001B[38;5;241m.\u001B[39mzeros((\u001B[38;5;241m3\u001B[39m,\u001B[38;5;241m1\u001B[39m))))\n\u001B[1;32m      2\u001B[0m \u001B[38;5;28mprint\u001B[39m(\u001B[38;5;124m\"\u001B[39m\u001B[38;5;124mP is\u001B[39m\u001B[38;5;124m\"\u001B[39m, P_hat)\n\u001B[1;32m      4\u001B[0m \u001B[38;5;66;03m# Not entirely sure here\u001B[39;00m\n",
      "\u001B[0;31mNameError\u001B[0m: name 'np' is not defined"
     ]
    }
   ],
   "source": [
    "\n",
    "P_hat = np.hstack((np.eye(3), np.zeros((3,1))))\n",
    "print(\"P is\", P_hat)\n",
    "\n",
    "# Not entirely sure here\n",
    "e = np.linalg.svd(F)[2][-1]\n",
    "# From slides page 8\n",
    "ex = [[0,-e[2],e[1]], \n",
    "      [e[2], 0, -e[0]],\n",
    "      [-e[1],e[0], 0]]\n",
    "\n",
    "print(ex)\n",
    "# As per assignment instructions\n",
    "P_hat_prime = np.hstack(((ex @ F),  np.zeros((3,1))))\n",
    "\n",
    "print(P_hat_prime)\n",
    "\n",
    "# As per book 12.2\n",
    "def linear_triangulation(x, x_p, P, P_p):\n",
    "    num_points = len(x)\n",
    "    \n",
    "    A = np.zeros([10, 4 * 4])\n",
    "    print(\"A is\", A)\n",
    "    for i in range(num_points):\n",
    "        \n",
    "        A[i][0], A[i][1], A[i][2], A[i][3] = np.dot(x[i][0], P[2]) - P[0]\n",
    "        A[i][4], A[i][5], A[i][6], A[i][7] = np.dot(x[i][1], P[2]) - P[1]\n",
    "        A[i][8], A[i][8], A[i][10], A[i][11] = np.dot(x_p[i][0], P_p[2]) - P_p[0]\n",
    "        A[i][12], A[i][13], A[i][14], A[i][15] = np.dot(x_p[i][1], P_p[2]) - P_p[1]\n",
    "           \n",
    "    _, _, V = np.linalg.svd(A)\n",
    "    p = V[-1, :]\n",
    "    print(\"p is\", p)\n",
    "    \n",
    "    return A"
   ]
  },
  {
   "cell_type": "code",
   "execution_count": 115,
   "metadata": {},
   "outputs": [
    {
     "name": "stdout",
     "output_type": "stream",
     "text": [
      "A is [[0. 0. 0. 0. 0. 0. 0. 0. 0. 0. 0. 0. 0. 0. 0. 0.]\n",
      " [0. 0. 0. 0. 0. 0. 0. 0. 0. 0. 0. 0. 0. 0. 0. 0.]\n",
      " [0. 0. 0. 0. 0. 0. 0. 0. 0. 0. 0. 0. 0. 0. 0. 0.]\n",
      " [0. 0. 0. 0. 0. 0. 0. 0. 0. 0. 0. 0. 0. 0. 0. 0.]\n",
      " [0. 0. 0. 0. 0. 0. 0. 0. 0. 0. 0. 0. 0. 0. 0. 0.]\n",
      " [0. 0. 0. 0. 0. 0. 0. 0. 0. 0. 0. 0. 0. 0. 0. 0.]\n",
      " [0. 0. 0. 0. 0. 0. 0. 0. 0. 0. 0. 0. 0. 0. 0. 0.]\n",
      " [0. 0. 0. 0. 0. 0. 0. 0. 0. 0. 0. 0. 0. 0. 0. 0.]\n",
      " [0. 0. 0. 0. 0. 0. 0. 0. 0. 0. 0. 0. 0. 0. 0. 0.]\n",
      " [0. 0. 0. 0. 0. 0. 0. 0. 0. 0. 0. 0. 0. 0. 0. 0.]]\n",
      "p is [0. 0. 0. 0. 0. 0. 0. 0. 0. 0. 0. 0. 0. 0. 0. 1.]\n"
     ]
    }
   ],
   "source": [
    "A = linear_triangulation(image1_points, image2_points, P_hat, P_hat_prime)"
   ]
  },
  {
   "cell_type": "code",
   "execution_count": null,
   "metadata": {},
   "outputs": [],
   "source": []
  }
 ],
 "metadata": {
  "kernelspec": {
   "display_name": "Python 3",
   "language": "python",
   "name": "python3"
  },
  "language_info": {
   "codemirror_mode": {
    "name": "ipython",
    "version": 3
   },
   "file_extension": ".py",
   "mimetype": "text/x-python",
   "name": "python",
   "nbconvert_exporter": "python",
   "pygments_lexer": "ipython3",
   "version": "3.10.2"
  },
  "orig_nbformat": 4
 },
 "nbformat": 4,
 "nbformat_minor": 2
}
